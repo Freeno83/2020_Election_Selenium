{
 "cells": [
  {
   "cell_type": "markdown",
   "metadata": {},
   "source": [
    "### About this notebook\n",
    "\n",
    "The purpose of this notebook is to perform webscraping on a website containing early voting return results.  The resultant data is visualized and stored to file so it can be seen over time."
   ]
  },
  {
   "cell_type": "markdown",
   "metadata": {},
   "source": [
    "### Conda package from inside the the jupyter notebook\n",
    "\n",
    "It is not necessary to run this cell if the needed libraries have already been installed.  It is placed here for convineience in case certain libraries need to be installed.  Must uncomment both lines to run."
   ]
  },
  {
   "cell_type": "code",
   "execution_count": 24,
   "metadata": {},
   "outputs": [],
   "source": [
    "#import sys\n",
    "#!conda install --yes --prefix {sys.prefix} selenium"
   ]
  },
  {
   "cell_type": "markdown",
   "metadata": {},
   "source": [
    "### Chrome driver download location"
   ]
  },
  {
   "cell_type": "markdown",
   "metadata": {},
   "source": [
    "* https://chromedriver.storage.googleapis.com/index.html?path=2.42/"
   ]
  },
  {
   "cell_type": "markdown",
   "metadata": {},
   "source": [
    "### Library Imports"
   ]
  },
  {
   "cell_type": "code",
   "execution_count": 60,
   "metadata": {},
   "outputs": [],
   "source": [
    "import os\n",
    "import pandas as pd\n",
    "from selenium import webdriver\n",
    "from datetime import datetime\n",
    "import matplotlib.pyplot as plt\n",
    "%matplotlib inline"
   ]
  },
  {
   "cell_type": "markdown",
   "metadata": {},
   "source": [
    "### Get the total number of returned ballots"
   ]
  },
  {
   "cell_type": "code",
   "execution_count": 2,
   "metadata": {},
   "outputs": [],
   "source": [
    "def get_total_ballots(driver):\n",
    "    \"\"\"Takes a driver and returns the total number of ballots returned\"\"\"\n",
    "    \n",
    "    try:             \n",
    "        num_bal_xpath = '//*[@id=\"__next\"]/div[4]/main/div[1]/div[2]/div[2]/h3/span'\n",
    "        num_bal = driver.find_elements_by_xpath(num_bal_xpath)[0]\n",
    "    except:\n",
    "        num_bal_xpath = '//*[@id=\"__next\"]/div[4]/main/div[1]/div[2]/div/h3/span'   \n",
    "        num_bal = driver.find_elements_by_xpath(num_bal_xpath)[0]\n",
    "\n",
    "    return int(num_bal.text.replace(\",\", \"\"))"
   ]
  },
  {
   "cell_type": "markdown",
   "metadata": {},
   "source": [
    "### Click on the radio button \"Party Registration\""
   ]
  },
  {
   "cell_type": "code",
   "execution_count": 3,
   "metadata": {},
   "outputs": [],
   "source": [
    "def click_party_registration(driver):\n",
    "    \"\"\"Takes a driver and shows ballots returned by party registration\"\"\"\n",
    "    \n",
    "    party_reg_selector = 'input[type=\"radio\"][name=\"ballotReturnedDataParty registration\"][value=\"Party Registration\"]'\n",
    "    driver.find_elements_by_css_selector(party_reg_selector)[0].click()"
   ]
  },
  {
   "cell_type": "markdown",
   "metadata": {},
   "source": [
    "### Get percentages from each party"
   ]
  },
  {
   "cell_type": "code",
   "execution_count": 4,
   "metadata": {},
   "outputs": [],
   "source": [
    "def get_percentages(driver):\n",
    "    \"\"\"takes a driver and returns the percentage of ballots per party\"\"\"\n",
    "    \n",
    "    try:\n",
    "        dem_perc_xpath = '//*[@id=\"__next\"]/div[4]/main/div[1]/div[2]/div[2]/div/div[1]/figure/div/div[1]/span'\n",
    "        gop_perc_xpath = '//*[@id=\"__next\"]/div[4]/main/div[1]/div[2]/div[2]/div/div[1]/figure/div/div[2]/span'\n",
    "        other_perc_xpath = '//*[@id=\"__next\"]/div[4]/main/div[1]/div[2]/div[2]/div/div[1]/figure/div/div[3]/span[1]'\n",
    "\n",
    "        dem_perc = driver.find_element_by_xpath(dem_perc_xpath)\n",
    "        gop_perc = driver.find_element_by_xpath(gop_perc_xpath)\n",
    "        other_perc = driver.find_element_by_xpath(other_perc_xpath)\n",
    "    except:\n",
    "        dem_perc_xpath = '//*[@id=\"__next\"]/div[4]/main/div[1]/div[2]/div/div/div[1]/figure/div/div[1]/span'\n",
    "        gop_perc_xpath = '//*[@id=\"__next\"]/div[4]/main/div[1]/div[2]/div/div/div[1]/figure/div/div[2]/span'\n",
    "        other_perc_xpath = '//*[@id=\"__next\"]/div[4]/main/div[1]/div[2]/div/div/div[1]/figure/div/div[3]/span'\n",
    "        \n",
    "        dem_perc = driver.find_element_by_xpath(dem_perc_xpath)\n",
    "        gop_perc = driver.find_element_by_xpath(gop_perc_xpath)\n",
    "        other_perc = driver.find_element_by_xpath(other_perc_xpath)      \n",
    "        \n",
    "\n",
    "    dem = int(dem_perc.text.replace(\"%\", \"\"))/100\n",
    "    gop = int(gop_perc.text.replace(\"%\", \"\"))/100\n",
    "    other = int(other_perc.text.replace(\"%\", \"\"))/100\n",
    "\n",
    "    return (dem, gop, other)"
   ]
  },
  {
   "cell_type": "markdown",
   "metadata": {},
   "source": [
    "### Compute votes for each party"
   ]
  },
  {
   "cell_type": "code",
   "execution_count": 52,
   "metadata": {},
   "outputs": [],
   "source": [
    "def compute_votes(total_ballots, percentages):\n",
    "    \"\"\"Takes total number of votes and % by party and returns votes per party\"\"\"\n",
    "    \n",
    "    dem_votes = int(total_ballots*percentages[0]) \n",
    "    gop_votes = int(total_ballots*percentages[1]) \n",
    "    other_votes = int(total_ballots*percentages[2])\n",
    "\n",
    "    return(dem_votes, gop_votes, other_votes)"
   ]
  },
  {
   "cell_type": "markdown",
   "metadata": {},
   "source": [
    "### Visualize Results"
   ]
  },
  {
   "cell_type": "code",
   "execution_count": 130,
   "metadata": {},
   "outputs": [],
   "source": [
    "def plot_all_states():\n",
    "    \"\"\"Takes a 12 state dataframe and plots 3 x 4 line graphs\"\"\"\n",
    "    plt.figure(figsize=(14, 10))\n",
    "    for state, abbrev in bg.items():\n",
    "        i = list(bg.keys()).index(state)\n",
    "        ax = plt.subplot(4, 3, i+1)\n",
    "        ax.tick_params(labelbottom=False) \n",
    "        \n",
    "        plt.title(f\"{state.title()}\")\n",
    "        plt.legend()\n",
    "        plt.plot(bg_2020.date, bg_2020[f\"{abbrev}_dem\"], color=\"blue\")\n",
    "        plt.plot(bg_2020.date, bg_2020[f\"{abbrev}_gop\"], color=\"red\")\n",
    "        plt.plot(bg_2020.date, bg_2020[f\"{abbrev}_other\"], color=\"grey\")\n",
    "        plt.tight_layout(rect=[0, 0.03, 1, 0.95])\n",
    "        \n",
    "        plt.suptitle(f\"Vote Counts by Party {bg_2020.date.min()} to {bg_2020.date.max()}\", \n",
    "                     fontsize = 16, \n",
    "                     fontweight = 'bold')"
   ]
  },
  {
   "cell_type": "markdown",
   "metadata": {},
   "source": [
    "### Data Source"
   ]
  },
  {
   "cell_type": "code",
   "execution_count": 131,
   "metadata": {},
   "outputs": [],
   "source": [
    "url = \"https://www.nbcnews.com/politics/2020-elections/\""
   ]
  },
  {
   "cell_type": "markdown",
   "metadata": {},
   "source": [
    "### Battleground States"
   ]
  },
  {
   "cell_type": "code",
   "execution_count": 132,
   "metadata": {},
   "outputs": [],
   "source": [
    "bg = {\"colorado\": \"co\",\n",
    "      \"florida\": \"fl\",\n",
    "      \"iowa\": \"ia\",\n",
    "      \"michigan\": \"mi\",\n",
    "      \"minnesota\": \"mn\",\n",
    "      \"nevada\": \"nv\", \n",
    "      \"new-hampshire\": \"nh\",\n",
    "      \"north-carolina\": \"nc\",\n",
    "      \"ohio\": \"oh\",\n",
    "      \"pennsylvania\": \"pa\",\n",
    "      \"virginia\": \"va\",\n",
    "      \"wisconsin\": \"wi\"}"
   ]
  },
  {
   "cell_type": "markdown",
   "metadata": {},
   "source": [
    "### Main Workflow"
   ]
  },
  {
   "cell_type": "code",
   "execution_count": 129,
   "metadata": {},
   "outputs": [
    {
     "name": "stdout",
     "output_type": "stream",
     "text": [
      "colorado: (505775, 324215, 466869)\n",
      "florida: (1891144, 1428864, 882534)\n",
      "iowa: (335452, 199981, 109667)\n",
      "michigan: (751964, 790526, 385622)\n",
      "minnesota: (533613, 322391, 255689)\n",
      "nevada: (219352, 160858, 107238)\n",
      "new-hampshire: (57072, 20753, 25942)\n",
      "north-carolina: (1037836, 675800, 699936)\n",
      "ohio: (683131, 802679, 222017)\n",
      "pennsylvania: (938932, 264488, 119019)\n",
      "virginia: (842294, 594560, 214702)\n",
      "wisconsin: (408538, 452705, 242914)\n",
      "New Data Written to: daily_vote_counts.csv\n",
      "Wall time: 1min 32s\n"
     ]
    },
    {
     "data": {
      "image/png": "[encoded data removed]",
      "text/plain": [
       "<Figure size 1008x720 with 12 Axes>"
      ]
     },
     "metadata": {
      "needs_background": "light"
     },
     "output_type": "display_data"
    }
   ],
   "source": [
    "%%time\n",
    "file = \"daily_vote_counts.csv\"\n",
    "row = []\n",
    "row.append(datetime.now().strftime(\"%m/%d/%Y %H:%M:%S\"))\n",
    "\n",
    "driver = webdriver.Chrome(r\"C:\\Users\\N0R01DF\\Downloads\\chromedriver.exe\")\n",
    "\n",
    "# Get the vote breakdown from each state\n",
    "for state in bg.keys():\n",
    "    driver.get(f\"{url}{state}-results\")\n",
    "    total_ballots = get_total_ballots(driver)\n",
    "    click_party_registration(driver)\n",
    "    percentages = get_percentages(driver)\n",
    "    votes = compute_votes(total_ballots, percentages)\n",
    "    print(f\"{state}: {votes}\")\n",
    "\n",
    "    for vote_count in votes:\n",
    "        row.append(vote_count)\n",
    "\n",
    "# Create header names\n",
    "header = [\"date\"]\n",
    "\n",
    "for abbrev in bg.values():\n",
    "    header.append(abbrev+\"_dem\")\n",
    "    header.append(abbrev+\"_gop\")\n",
    "    header.append(abbrev+\"_other\")\n",
    "\n",
    "# Create a dataframe with the new data\n",
    "new_data = pd.DataFrame(columns=header, data=[row])\n",
    "\n",
    "# Append to exisitng file or write a new file\n",
    "if os.path.exists(file):\n",
    "    bg_2020 = pd.read_csv(file)\n",
    "    bg_2020 = bg_2020.append(new_data)\n",
    "    bg_2020.to_csv(file, index=False)\n",
    "else:\n",
    "    new_data.to_csv(file, index=False)\n",
    "    \n",
    "print(\"New Data Written to: \" + file)\n",
    "\n",
    "plot_all_states()"
   ]
  },
  {
   "cell_type": "code",
   "execution_count": null,
   "metadata": {},
   "outputs": [],
   "source": []
  }
 ],
 "metadata": {
  "kernelspec": {
   "display_name": "Python 3",
   "language": "python",
   "name": "python3"
  },
  "language_info": {
   "codemirror_mode": {
    "name": "ipython",
    "version": 3
   },
   "file_extension": ".py",
   "mimetype": "text/x-python",
   "name": "python",
   "nbconvert_exporter": "python",
   "pygments_lexer": "ipython3",
   "version": "3.7.6"
  }
 },
 "nbformat": 4,
 "nbformat_minor": 4
}
